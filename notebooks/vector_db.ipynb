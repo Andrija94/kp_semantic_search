{
 "cells": [
  {
   "cell_type": "code",
   "execution_count": 1,
   "metadata": {},
   "outputs": [],
   "source": [
    "import os\n",
    "import sys\n",
    "import json\n",
    "import chromadb\n",
    "from chromadb.utils.embedding_functions import OpenAIEmbeddingFunction\n",
    "\n",
    "sys.path.append('../src')\n",
    "\n",
    "from utils import load_openai\n",
    "\n",
    "OPENAI_API_KEY = load_openai()\n",
    "FOLDER_PATH = \"C:\\\\Users\\\\Stoja\\\\GitHub\\\\kp_semantic_search\\\\ads_json\"\n",
    "VECTOR_DB_PATH = \"C:\\\\Users\\\\Stoja\\\\GitHub\\\\kp_semantic_search\\\\vector_db\"\n",
    "CURRENCY_CONVERTER = 117"
   ]
  },
  {
   "cell_type": "code",
   "execution_count": 2,
   "metadata": {},
   "outputs": [],
   "source": [
    "#func for reformating ad ID\n",
    "def rf_ad_id(data):\n",
    "    try:\n",
    "        return data['ad']['ad_id'].split('#')[1]\n",
    "    except:\n",
    "        return 'Nepoznato'\n",
    "#func for reformating membership\n",
    "def rf_membership(data):\n",
    "    try:\n",
    "        return data['user']['membership'].split(' od ')[1]\n",
    "    except:\n",
    "        return 'Nepoznato'\n",
    "    \n",
    "#func for reformating price\n",
    "def rf_price(data):\n",
    "    try:\n",
    "        price = data['ad']['price'].replace('.', '')\n",
    "    except:\n",
    "        price = data['ad']['price']\n",
    "    try:\n",
    "        value = eval(price.split(': ')[1].split(' ')[0])\n",
    "        currency = rf_currency(price)\n",
    "        return value, currency\n",
    "    except:\n",
    "        return 'Kontakt', ''\n",
    "        \n",
    "        # Cena: 8.900 din\n",
    "        \n",
    "#func for reformating currency\n",
    "def rf_currency(price):\n",
    "    try:\n",
    "        currency =  price.split(': ')[1].split(' ')[1]\n",
    "        if currency == 'din':\n",
    "            return 'din'\n",
    "        else:\n",
    "            return 'eur'\n",
    "    except:\n",
    "        return ''\n",
    "    \n",
    "def metadata_price(data):\n",
    "    value, currency = rf_price(data)\n",
    "    if (currency == 'din') or (currency == ''):\n",
    "        return value\n",
    "    return value * CURRENCY_CONVERTER\n",
    "\n",
    "\n",
    "#func for reformating condition\n",
    "def rf_condition(data):\n",
    "    if data['ad']['condition'] == '':\n",
    "        return 'Nepoznato'\n",
    "    return data['ad']['condition']\n",
    "\n",
    "#func for reformating description text\n",
    "def rf_desc(data):\n",
    "    return data['ad']['description'].replace(\"\\n\", \" \")\n",
    "\n",
    "#func for creating text for embedding\n",
    "def create_embed_text(data):\n",
    "    price, currency = rf_price(data)\n",
    "    embedding_text = f\"\"\"\n",
    "                Naziv oglasa je {data['ad']['ad_name']}.\n",
    "                Oglaseni proizvod je iz kategorije {data['ad']['category']}, iz podkategorije {data['ad']['sub_cat']}.\n",
    "                Cena oglasenog proizvoda je {price} {currency}.\n",
    "                Stanje oglasenog proizvoda je {rf_condition(data)}.\n",
    "                Dodatne informacije o proizvodu su: {rf_desc(data)}.\n",
    "                Korisnik koji je oglasio proizvod je {data['user']['name']}, clan je od {rf_membership(data)} iz mesta {data['user']['place']}.\n",
    "                Korisnik ima {data['user']['good_reviews']} pozitivnih ocena i {data['user']['bad_reviews']} negativnih ocena.\n",
    "            \"\"\"\n",
    "    return embedding_text\n",
    "\n",
    "#func for creating metadata\n",
    "def create_metadata(data):\n",
    "    metadata = {\n",
    "        'ad_url': data['ad']['ad_url'],\n",
    "        'ad_id': rf_ad_id(data),\n",
    "        'price': metadata_price(data),\n",
    "        'category': data['ad']['category'],\n",
    "        'sub_category': data['ad']['sub_cat'],\n",
    "        'positive_reviews': data['user']['good_reviews'],\n",
    "        'negative_reviews': data['user']['bad_reviews'],\n",
    "        'place': data['user']['place']\n",
    "    }\n",
    "    return metadata\n"
   ]
  },
  {
   "cell_type": "code",
   "execution_count": 3,
   "metadata": {},
   "outputs": [],
   "source": [
    "def load_jsons(folder_path):\n",
    "    json_objects = []\n",
    "    files = [f for f in os.listdir(folder_path) if os.path.isfile(os.path.join(folder_path, f))]\n",
    "    jsonl_files = [f for f in files if f.endswith('.jsonl')]\n",
    "\n",
    "    for jsonl_file in jsonl_files:\n",
    "        file_path = os.path.join(folder_path, jsonl_file)\n",
    "        with open(file_path, 'r', encoding='utf-8') as file:\n",
    "            for line in file:\n",
    "                    json_objects.append(json.loads(line))\n",
    "    return json_objects\n",
    "\n"
   ]
  },
  {
   "cell_type": "code",
   "execution_count": 4,
   "metadata": {},
   "outputs": [],
   "source": [
    "json_objects = load_jsons(FOLDER_PATH)"
   ]
  },
  {
   "cell_type": "code",
   "execution_count": 5,
   "metadata": {},
   "outputs": [
    {
     "data": {
      "text/plain": [
       "int"
      ]
     },
     "execution_count": 5,
     "metadata": {},
     "output_type": "execute_result"
    }
   ],
   "source": [
    "ad_contents = []\n",
    "ad_metadatas = []\n",
    "\n",
    "for jo in json_objects:\n",
    "    content = create_embed_text(jo)\n",
    "    metadata = create_metadata(jo)\n",
    "    ad_contents.append(content)\n",
    "    ad_metadatas.append(metadata)\n",
    "\n",
    "type(ad_metadatas[5]['price'])"
   ]
  },
  {
   "cell_type": "code",
   "execution_count": 6,
   "metadata": {},
   "outputs": [],
   "source": [
    "chroma_client = chromadb.PersistentClient(path=VECTOR_DB_PATH)\n",
    "embedding_function = OpenAIEmbeddingFunction(api_key=OPENAI_API_KEY)\n",
    "\n",
    "# chroma_client.delete_collection(name=\"kp_ads\")\n",
    "\n",
    "kp_ads_collections = chroma_client.get_or_create_collection(\n",
    "    name=\"kp_ads\",\n",
    "    embedding_function=embedding_function,\n",
    "    metadata={\"hnsw:space\": \"cosine\"},\n",
    ")"
   ]
  },
  {
   "cell_type": "code",
   "execution_count": null,
   "metadata": {},
   "outputs": [],
   "source": [
    "for content, metadata in zip(ad_contents, ad_metadatas):\n",
    "    kp_ads_collections.add(\n",
    "        ids = metadata['ad_id'],\n",
    "        documents = content,\n",
    "        metadatas = {\n",
    "            'ad_url': metadata['ad_url'],\n",
    "            'ad_id': metadata['ad_id'],\n",
    "            'price': metadata['price'],\n",
    "            'category': metadata['category'],\n",
    "            'sub_category': metadata['sub_category'],\n",
    "            'positive_reviews': metadata['positive_reviews'],\n",
    "            'negative_reviews': metadata['negative_reviews'],\n",
    "            'place': metadata['place']}\n",
    "\n",
    "    )"
   ]
  },
  {
   "cell_type": "code",
   "execution_count": 10,
   "metadata": {},
   "outputs": [
    {
     "data": {
      "text/plain": [
       "172"
      ]
     },
     "execution_count": 10,
     "metadata": {},
     "output_type": "execute_result"
    }
   ],
   "source": [
    "len(kp_ads_collections.get()['documents'])"
   ]
  },
  {
   "cell_type": "code",
   "execution_count": 8,
   "metadata": {},
   "outputs": [],
   "source": [
    "import openai"
   ]
  },
  {
   "cell_type": "code",
   "execution_count": 9,
   "metadata": {},
   "outputs": [],
   "source": [
    "def completion(query):\n",
    "\n",
    "  prompt = f\"\"\"\n",
    "        Ispod se nalazi korisnikov Upit. Tvoja uloga je da izvuces informacije\n",
    "        iz oglasa koje ce se koristiti u upitu ka bazi. Korisnik moze traziti da cena\n",
    "        bude manja od 1000 eura, ili da bude veca od 5000 dinara. Ispod su informacije koje treba da izvuces: \n",
    "                - Cena\n",
    "                - Namera, odnosno da li korisnik zeli da pronade oglase koji su manji od Cene, ili\n",
    "                  visi od Cene. Ukoliko korisnik kaze 'jeftinije od' ili 'manje od', onda je \n",
    "                  Namera='lte'. Ukoliko korisnik kaze 'skuplje od' ili 'vece od' Namera='gte'\n",
    "                - Valuta, korisnik moze uneti valutu kao: 'eur' ili 'evra' ili 'eura' ili 'e' a ti u odgovoru vracas 'eur', za sve ostale vracas 'din'\n",
    "                - Ostali deo teksta treba da ostavis u polje Upit\n",
    "                - Ukoliko u upitu nema vrednosti koje bi odgovarale ceni, valuti ili nameri onda su one None\n",
    "        Nakon sto izvuces ove informacije iz Upita, treba da napravis listu sa tim informacijama. \n",
    "        Ispod su nekoliko primera sa Upitom korisnika i Odgovorom koji treba da das. Ne treba da dajes objasnjenje vec samo jednu listu kao odgovor:        \n",
    "\n",
    "        Upit: \"Pronadji parfeme iz Beograda jeftinije od 100 evra\"\n",
    "        Odgovor: [100, 'eur', 'lte', 'Pronadji parfeme iz Beograda']\n",
    "              \n",
    "        Upit: \"Pronadji sve patike skuplje od 5000 dinara\"\n",
    "        Odgovor: [5000, 'din', 'gte', 'Pronadji sve patike']\n",
    "        \n",
    "        Upit: \"Pronadji parfeme iz Beograda\"\n",
    "        Odgovor: [None, None, None, 'Pronadji parfeme iz Beograda']\n",
    "\n",
    "        Upit: \n",
    "        {query}\n",
    "\n",
    "        Odgovor:\n",
    "\n",
    "        \"\"\"\n",
    "\n",
    "  response = openai.Completion.create(\n",
    "    engine=\"gpt-3.5-turbo-instruct\",  \n",
    "    prompt=prompt,\n",
    "    max_tokens=100,\n",
    "    temperature = 0.0\n",
    "  )\n",
    "  generated_text = response['choices'][0]['text']\n",
    "  return generated_text\n"
   ]
  },
  {
   "cell_type": "code",
   "execution_count": 15,
   "metadata": {},
   "outputs": [
    {
     "data": {
      "text/plain": [
       "[100, 'eur', 'lte', 'pronadji sve parfeme']"
      ]
     },
     "execution_count": 15,
     "metadata": {},
     "output_type": "execute_result"
    }
   ],
   "source": [
    "generated_text = completion('pronadji sve parfeme jeftinije od 100 evra') #insert query text\n",
    "\n",
    "res = eval(generated_text)\n",
    "\n",
    "res\n"
   ]
  },
  {
   "cell_type": "code",
   "execution_count": 16,
   "metadata": {},
   "outputs": [],
   "source": [
    "def retrieve_ads(res):\n",
    "    price = res[0]\n",
    "    currency = res[1]\n",
    "    rule = res[2]\n",
    "    query = res[3]\n",
    "    if (price != None) and (currency != None) and (rule != None):\n",
    "        if currency == 'din':\n",
    "            result = kp_ads_collections.query(\n",
    "                query_texts=query,\n",
    "                n_results=5,\n",
    "                include=[\"metadatas\"],\n",
    "                where={\n",
    "                    \"price\": {\n",
    "                        \"$\"+rule: price\n",
    "                    }\n",
    "                }\n",
    "            )\n",
    "            return result\n",
    "        \n",
    "        result = kp_ads_collections.query(\n",
    "            query_texts=query,\n",
    "            n_results=5,\n",
    "            include=[\"metadatas\"],\n",
    "            where={\n",
    "                \"price\": {\n",
    "                    \"$\"+rule: price * CURRENCY_CONVERTER\n",
    "                }\n",
    "            }\n",
    "        )\n",
    "        return result\n",
    "        \n",
    "    result = kp_ads_collections.query(\n",
    "        query_texts=query,\n",
    "        n_results=5,\n",
    "        include=[\"metadatas\"]\n",
    "    )\n",
    "    return result"
   ]
  },
  {
   "cell_type": "code",
   "execution_count": 17,
   "metadata": {},
   "outputs": [],
   "source": [
    "response = retrieve_ads(res)"
   ]
  },
  {
   "cell_type": "code",
   "execution_count": 18,
   "metadata": {},
   "outputs": [
    {
     "name": "stdout",
     "output_type": "stream",
     "text": [
      "[100, 'eur', 'lte', 'pronadji sve parfeme']\n"
     ]
    },
    {
     "data": {
      "text/plain": [
       "{'ids': [['85355514', '79826117', '56886134', '34603916', '160521385']],\n",
       " 'distances': None,\n",
       " 'metadatas': [[{'ad_id': '85355514',\n",
       "    'ad_url': 'https://www.kupujemprodajem.com/nega-lica-tela-i-ulepsavanje/parfemi-muski/viktor-rolf-spicebomb-extreme-edp-90ml/oglas/85355514',\n",
       "    'category': 'Nega lica, tela i ulepšavanje',\n",
       "    'negative_reviews': '0',\n",
       "    'place': 'Beograd',\n",
       "    'positive_reviews': '13.869',\n",
       "    'price': 10764,\n",
       "    'sub_category': 'Parfemi | Muški'},\n",
       "   {'ad_id': '79826117',\n",
       "    'ad_url': 'https://www.kupujemprodajem.com/nega-lica-tela-i-ulepsavanje/parfemi-muski/armaf-club-de-nuit-intense-man-edt105ml/oglas/79826117',\n",
       "    'category': 'Nega lica, tela i ulepšavanje',\n",
       "    'negative_reviews': '0',\n",
       "    'place': 'Beograd',\n",
       "    'positive_reviews': '13.869',\n",
       "    'price': 4680,\n",
       "    'sub_category': 'Parfemi | Muški'},\n",
       "   {'ad_id': '56886134',\n",
       "    'ad_url': 'https://www.kupujemprodajem.com/nega-lica-tela-i-ulepsavanje/parfemi-muski/mancera-cedrat-boise-edp120ml/oglas/56886134',\n",
       "    'category': 'Nega lica, tela i ulepšavanje',\n",
       "    'negative_reviews': '0',\n",
       "    'place': 'Beograd',\n",
       "    'positive_reviews': '13.869',\n",
       "    'price': 8892,\n",
       "    'sub_category': 'Parfemi | Muški'},\n",
       "   {'ad_id': '34603916',\n",
       "    'ad_url': 'https://www.kupujemprodajem.com/nega-lica-tela-i-ulepsavanje/parfemi-muski/versace-blue-jeans-edt-75ml/oglas/34603916',\n",
       "    'category': 'Nega lica, tela i ulepšavanje',\n",
       "    'negative_reviews': '0',\n",
       "    'place': 'Beograd',\n",
       "    'positive_reviews': '13.869',\n",
       "    'price': 3042,\n",
       "    'sub_category': 'Parfemi | Muški'},\n",
       "   {'ad_id': '160521385',\n",
       "    'ad_url': 'https://www.kupujemprodajem.com/obuca-muska/papuce/adidas-papuce/oglas/160521385?filterId=2140163528',\n",
       "    'category': 'Obuća | Muška',\n",
       "    'negative_reviews': '3',\n",
       "    'place': 'Beograd | Novi Bg.',\n",
       "    'positive_reviews': '281',\n",
       "    'price': 1500,\n",
       "    'sub_category': 'Papuče'}]],\n",
       " 'embeddings': None,\n",
       " 'documents': None,\n",
       " 'uris': None,\n",
       " 'data': None}"
      ]
     },
     "execution_count": 18,
     "metadata": {},
     "output_type": "execute_result"
    }
   ],
   "source": [
    "print(res)\n",
    "response"
   ]
  }
 ],
 "metadata": {
  "kernelspec": {
   "display_name": "kpss",
   "language": "python",
   "name": "python3"
  },
  "language_info": {
   "codemirror_mode": {
    "name": "ipython",
    "version": 3
   },
   "file_extension": ".py",
   "mimetype": "text/x-python",
   "name": "python",
   "nbconvert_exporter": "python",
   "pygments_lexer": "ipython3",
   "version": "3.11.6"
  }
 },
 "nbformat": 4,
 "nbformat_minor": 2
}
